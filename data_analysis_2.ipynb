{
 "cells": [
  {
   "cell_type": "code",
   "execution_count": 1,
   "metadata": {},
   "outputs": [],
   "source": [
    "import numpy as np\n",
    "import matplotlib.pyplot as plt"
   ]
  },
  {
   "cell_type": "code",
   "execution_count": 2,
   "metadata": {},
   "outputs": [],
   "source": [
    "datapath = '/data/p-one/llallement/dimuon_generator/PYTHIA/data_files/'"
   ]
  },
  {
   "cell_type": "code",
   "execution_count": 3,
   "metadata": {},
   "outputs": [],
   "source": [
    "# 1. Charm hadrons distribution\n",
    "\n",
    "# Just to know which hadrons result of the the charm quark\n",
    "# hadronization.\n",
    "\n",
    "# Here the plot is only for neutrino events, but similar\n",
    "# results are obtained for antineutrino events (antihadrons)."
   ]
  },
  {
   "cell_type": "code",
   "execution_count": 4,
   "metadata": {},
   "outputs": [],
   "source": [
    "# load the data of a single file and extract the CDG codes\n",
    "# of the outgoing charm hadrons\n",
    "\n",
    "data_file = datapath + '110007_charmOutput.txt'\n",
    "\n",
    "cdg_hadrons = []\n",
    "\n",
    "with open(data_file, 'r') as file:\n",
    "    for line in file:\n",
    "        if line.startswith('P') and line.split()[1] == '3':\n",
    "            line_values = line.strip().split('\\t')\n",
    "            cdg_hadrons.append(int(line_values[2]))"
   ]
  },
  {
   "cell_type": "code",
   "execution_count": 5,
   "metadata": {},
   "outputs": [],
   "source": [
    "# count how many of each hadron type there is\n",
    "\n",
    "pdg_codes = [411, 421, 431, 4232, 4132, 4122, 4332]\n",
    "hadron_counts = []\n",
    "\n",
    "for code in pdg_codes:\n",
    "    count = cdg_hadrons.count(code)\n",
    "    hadron_counts.append(count)"
   ]
  },
  {
   "cell_type": "code",
   "execution_count": 23,
   "metadata": {},
   "outputs": [
    {
     "data": {
      "image/png": "[encoded data removed]",
      "text/plain": [
       "<Figure size 432x288 with 1 Axes>"
      ]
     },
     "metadata": {
      "needs_background": "light"
     },
     "output_type": "display_data"
    }
   ],
   "source": [
    "# plot the distribution\n",
    "\n",
    "hadron_names = ['$D^+$', '$D^0$', '$D_s^+$', '$\\Xi_c^+$',\n",
    "                '$\\Xi_c^0$', '$\\Lambda_c^0$', '$\\Omega_c^0$']\n",
    "colors = ['red', 'green', 'orange', 'blue', 'cyan',\n",
    "          'purple', 'magenta']\n",
    "\n",
    "plt.bar(hadron_names, hadron_counts, color=colors)\n",
    "plt.xlabel('Charm hadron type')\n",
    "plt.ylabel('Number of occurrences')\n",
    "plt.title('Outgoing charm hadrons distribution (incoming neutrino)')\n",
    "plt.show();"
   ]
  },
  {
   "cell_type": "code",
   "execution_count": 7,
   "metadata": {},
   "outputs": [],
   "source": [
    "# 2. Inelasticity distribution\n",
    "\n",
    "# The interaction here is:\n",
    "# (anti)neutrino + proton/neutron --> muon + charm quark.\n",
    "# The charm quark then hadronizes and becomes a charm hadron.\n",
    "\n",
    "# The inelasticity is defined by the ratio of the energy of\n",
    "# the charm quark by the energy of the neutrino. The\n",
    "# inelasticty distribution should be different for neutrino\n",
    "# and antineutrino events."
   ]
  },
  {
   "cell_type": "code",
   "execution_count": 8,
   "metadata": {},
   "outputs": [],
   "source": [
    "# load the data for the neutrino events\n",
    "\n",
    "energy_neutrinos = []\n",
    "energy_quarks = []\n",
    "\n",
    "for i in range(1, 4): # for neutrinos: i may be in [1, 51]\n",
    "    data_file = datapath + str(110000 + i) + '_charmOutput.txt'\n",
    "\n",
    "    with open(data_file, 'r') as file:\n",
    "        lines = file.readlines()\n",
    "\n",
    "    line_count = len(lines)\n",
    "\n",
    "    for j, line in enumerate(lines):\n",
    "        if line.startswith('E'):\n",
    "            try:\n",
    "                line_values = line.strip().split('\\t')\n",
    "                # if 100 <= float(line_values[3]) <= 250 and j + 4 < line_count:\n",
    "                # use this line instead to select neutrinos of lower energy only\n",
    "                if j + 4 < line_count:\n",
    "                    energy_neutrinos.append(float(line_values[3]))\n",
    "                    \n",
    "                    quark_line = lines[j + 2]\n",
    "                    quark_values = quark_line.strip().split('\\t')\n",
    "                    energy_quarks.append(float(quark_values[3]))\n",
    "\n",
    "            except (ValueError, IndexError):\n",
    "                continue"
   ]
  },
  {
   "cell_type": "code",
   "execution_count": 9,
   "metadata": {},
   "outputs": [],
   "source": [
    "# calculate the inelasticity for neutrino events\n",
    "\n",
    "inelasticity_neutrinos = np.array(energy_quarks) / np.array(energy_neutrinos)"
   ]
  },
  {
   "cell_type": "code",
   "execution_count": 10,
   "metadata": {},
   "outputs": [],
   "source": [
    "# load the data for the antineutrino events\n",
    "\n",
    "energy_antineutrinos = []\n",
    "energy_antiquarks = []\n",
    "\n",
    "for i in range(51, 54): # for antineutrinos: i may be in [51, 101]\n",
    "    data_file = datapath + str(110000 + i) + '_charmOutput.txt'\n",
    "\n",
    "    with open(data_file, 'r') as file:\n",
    "        lines = file.readlines()\n",
    "\n",
    "    line_count = len(lines)\n",
    "\n",
    "    for j, line in enumerate(lines):\n",
    "        if line.startswith('E'):\n",
    "            try:\n",
    "                line_values = line.strip().split('\\t')\n",
    "                # if 100 <= float(line_values[3]) <= 250 and j + 4 < line_count:\n",
    "                # use this line instead to select antineutrinos of lower energy only\n",
    "                if j + 4 < line_count:\n",
    "                    energy_antineutrinos.append(float(line_values[3]))\n",
    "                    \n",
    "                    quark_line = lines[j + 2]\n",
    "                    quark_values = quark_line.strip().split('\\t')\n",
    "                    energy_antiquarks.append(float(quark_values[3]))\n",
    "\n",
    "            except (ValueError, IndexError):\n",
    "                continue"
   ]
  },
  {
   "cell_type": "code",
   "execution_count": 11,
   "metadata": {},
   "outputs": [],
   "source": [
    "# calculate the energy for antineutrino events\n",
    "\n",
    "inelasticity_antineutrinos = np.array(energy_antiquarks) / np.array(energy_antineutrinos)"
   ]
  },
  {
   "cell_type": "code",
   "execution_count": 12,
   "metadata": {},
   "outputs": [
    {
     "data": {
      "image/png": "[encoded data removed]",
      "text/plain": [
       "<Figure size 432x288 with 1 Axes>"
      ]
     },
     "metadata": {
      "needs_background": "light"
     },
     "output_type": "display_data"
    }
   ],
   "source": [
    "# plot both distributions\n",
    "\n",
    "plt.hist(inelasticity_neutrinos, bins=20, histtype='step', label='Neutrinos')\n",
    "plt.hist(inelasticity_antineutrinos, bins=20, histtype='step', label='Antineutrinos')\n",
    "plt.xlabel(r'Inelasticity $y$')\n",
    "plt.ylabel('Number of occurences')\n",
    "plt.legend(loc='lower right')\n",
    "plt.title('Inelasticity distribution')\n",
    "plt.show();"
   ]
  },
  {
   "cell_type": "code",
   "execution_count": 13,
   "metadata": {},
   "outputs": [],
   "source": [
    "# 3. Mean inelasticity\n",
    "\n",
    "# Neutrino energy goes from 50 GeV to 1 PeV in the data we\n",
    "# have. We put these energy values into different bins and\n",
    "# calculate the mean inelasticity corresponding to the events\n",
    "# in one bin.\n",
    "\n",
    "# Here the plot is only for neutrino events, but similar\n",
    "# results are obtained for antineutrino events."
   ]
  },
  {
   "cell_type": "code",
   "execution_count": 14,
   "metadata": {},
   "outputs": [],
   "source": [
    "# load the data (neutrino energies and event indices)\n",
    "\n",
    "neutrino_energies = []\n",
    "event_indices = []\n",
    "\n",
    "for i in range(1, 4):\n",
    "    data_file = datapath + str(110000 + i) + '_charmOutput.txt'\n",
    "\n",
    "    with open(data_file, 'r') as file:\n",
    "        for line in file:\n",
    "            if line.startswith('E'):\n",
    "                line_values = line.strip().split('\\t')\n",
    "                neutrino_energies.append(float(line_values[3]))\n",
    "                event_indices.append(str(i) + '-' + str(line_values[2]))\n",
    "            \n",
    "neutrino_energies = np.array(neutrino_energies)\n",
    "event_indices = np.array(event_indices)"
   ]
  },
  {
   "cell_type": "code",
   "execution_count": 15,
   "metadata": {},
   "outputs": [],
   "source": [
    "# get the events in each bin depending on neutrino energy\n",
    "\n",
    "n_bins = 50\n",
    "log_bins = np.logspace(np.log10(min(neutrino_energies)),\n",
    "                       np.log10(max(neutrino_energies)),\n",
    "                       num=n_bins)\n",
    "\n",
    "hist_counts, bin_edges = np.histogram(neutrino_energies, bins=log_bins)\n",
    "\n",
    "bin_indices = np.digitize(neutrino_energies, bin_edges)\n",
    "\n",
    "events_in_bins = {}\n",
    "\n",
    "for i, idx in enumerate(bin_indices):\n",
    "    bin_num = idx - 1\n",
    "    event_idx = event_indices[i]\n",
    "    if bin_num in events_in_bins:\n",
    "        events_in_bins[bin_num].append(event_idx)\n",
    "    else:\n",
    "        events_in_bins[bin_num] = [event_idx]"
   ]
  },
  {
   "cell_type": "code",
   "execution_count": 16,
   "metadata": {},
   "outputs": [],
   "source": [
    "# load the data (neutrino and charm quark energy) and sort it\n",
    "# according to bins\n",
    "\n",
    "nu_energy_in_bins = {}\n",
    "c_energy_in_bins = {}\n",
    "    \n",
    "for i in range(0, n_bins):\n",
    "    indices_of_interest = events_in_bins.get(i, [])\n",
    "\n",
    "    for k in range(1, 4):\n",
    "        data_file = datapath + str(110000 + k) + '_charmOutput.txt'\n",
    "    \n",
    "        with open(data_file, 'r') as file:\n",
    "            lines = file.readlines()\n",
    "\n",
    "        line_count = len(lines)\n",
    "\n",
    "        for j, line in enumerate(lines):\n",
    "            if line.startswith('E'):\n",
    "                try:\n",
    "                    line_values = line.strip().split('\\t')\n",
    "                    index = str(k) + '-' + str(line_values[2])\n",
    "\n",
    "                    if index in indices_of_interest and j + 4 < line_count:\n",
    "                        quark_line = lines[j + 2]\n",
    "                        quark_values = quark_line.strip().split('\\t')\n",
    "\n",
    "                        if i in nu_energy_in_bins:\n",
    "                            nu_energy_in_bins[i].append(float(line_values[3]))\n",
    "                            c_energy_in_bins[i]. append(float(quark_values[3]))\n",
    "                        else:\n",
    "                            nu_energy_in_bins[i] = [float(line_values[3])]\n",
    "                            c_energy_in_bins[i] = [float(quark_values[3])]\n",
    "\n",
    "                except (ValueError, IndexError):\n",
    "                    continue"
   ]
  },
  {
   "cell_type": "code",
   "execution_count": 17,
   "metadata": {},
   "outputs": [],
   "source": [
    "# calculate the mean inelasticity in each bin (and\n",
    "# statistical error)\n",
    "\n",
    "inelasticity_means = []\n",
    "inelasticity_errors = []\n",
    "\n",
    "for i in range(0, 50): # not taking the last bin\n",
    "    nu_energy_array = np.array(nu_energy_in_bins.get(i, []))\n",
    "    c_energy_array = np.array(c_energy_in_bins.get(i, []))\n",
    "    \n",
    "    inelasticity = c_energy_array / nu_energy_array\n",
    "\n",
    "    if len(inelasticity) > 0:\n",
    "        inelasticity_mean = np.mean(inelasticity)\n",
    "        inelasticity_means.append(inelasticity_mean)\n",
    "\n",
    "        inelasticity_error = np.std(inelasticity) / np.sqrt(len(inelasticity))\n",
    "        inelasticity_errors.append(inelasticity_error)\n",
    "    \n",
    "    else:\n",
    "        inelasticity_means.append(np.nan)\n",
    "        inelasticity_errors.append(np.nan)"
   ]
  },
  {
   "cell_type": "code",
   "execution_count": 18,
   "metadata": {},
   "outputs": [
    {
     "data": {
      "image/png": "[encoded data removed]",
      "text/plain": [
       "<Figure size 432x288 with 1 Axes>"
      ]
     },
     "metadata": {
      "needs_background": "light"
     },
     "output_type": "display_data"
    }
   ],
   "source": [
    "# plot the mean inelasticity as a scatter plot\n",
    "\n",
    "bin_widths = np.diff(bin_edges)\n",
    "bin_centers = bin_edges[:-1] + bin_widths / 2\n",
    "last_bin_center = bin_edges[-1] + bin_widths[-1] / 2\n",
    "bin_centers = np.append(bin_centers, last_bin_center)\n",
    "\n",
    "plt.errorbar(bin_centers, inelasticity_means, yerr=inelasticity_errors,\n",
    "             fmt='o', zorder=2)\n",
    "\n",
    "plt.xlabel(r'Incoming neutrino energy $E_\\nu$ [GeV]')\n",
    "plt.ylabel(r'Mean inelasticity $\\langle y \\rangle$')\n",
    "plt.xscale('log')\n",
    "plt.title('Mean inelasticity vs. incoming neutrino energy')\n",
    "\n",
    "plt.grid(which='both', zorder=1)\n",
    "plt.show();"
   ]
  },
  {
   "cell_type": "code",
   "execution_count": 19,
   "metadata": {},
   "outputs": [],
   "source": [
    "# 4. Mean opening angle\n",
    "\n",
    "# Still using a binned distribution based on neutrino energy,\n",
    "# we can calculate the mean opening angle between the\n",
    "# incoming neutrino and the outgoing charm hadron.\n",
    "\n",
    "# Here the plot is only for neutrino events, but similar\n",
    "# results are obtained for antineutrino events.\n",
    "\n",
    "# A 2D plot may be better advised here."
   ]
  },
  {
   "cell_type": "code",
   "execution_count": 20,
   "metadata": {},
   "outputs": [],
   "source": [
    "# load the data (neutrino energy and zenith and azimuth angles\n",
    "# of the neutrino and charm hadron) and sort it according to\n",
    "# bins (same bins as before)\n",
    "\n",
    "nu_energy_in_bins = {}\n",
    "mu_theta_in_bins = {}\n",
    "mu_phi_in_bins = {}\n",
    "h_theta_in_bins = {}\n",
    "h_phi_in_bins = {}\n",
    "\n",
    "for i in range(0, n_bins):\n",
    "    indices_of_interest = events_in_bins.get(i, [])\n",
    "    \n",
    "    for k in range(1, 4):\n",
    "        data_file = datapath + str(110000 + k) + '_charmOutput.txt'\n",
    "    \n",
    "        with open(data_file, 'r') as file:\n",
    "            lines = file.readlines()\n",
    "\n",
    "        line_count = len(lines)\n",
    "\n",
    "        for j, line in enumerate(lines):\n",
    "            if line.startswith('E'):\n",
    "                try:\n",
    "                    line_values = line.strip().split('\\t')\n",
    "                    index = str(k) + '-' + str(line_values[2])\n",
    "\n",
    "                    if index in indices_of_interest and j + 4 < line_count:\n",
    "                        mu_line = lines[j + 1]\n",
    "                        mu_values = mu_line.strip().split('\\t')\n",
    "\n",
    "                        h_line = lines[j + 3]\n",
    "                        h_values = h_line.strip().split('\\t')\n",
    "\n",
    "                        if i in nu_energy_in_bins:\n",
    "                            nu_energy_in_bins[i].append(float(line_values[3]))\n",
    "                            mu_theta_in_bins[i].append(float(mu_values[4]))\n",
    "                            mu_phi_in_bins[i].append(float(mu_values[5]))\n",
    "                            h_theta_in_bins[i].append(float(h_values[4]))\n",
    "                            h_phi_in_bins[i].append(float(h_values[5]))\n",
    "                        else:\n",
    "                            nu_energy_in_bins[i] = [float(line_values[3])]\n",
    "                            mu_theta_in_bins[i] = [float(mu_values[4])]\n",
    "                            mu_phi_in_bins[i] = [float(mu_values[5])]\n",
    "                            h_theta_in_bins[i] = [float(h_values[4])]\n",
    "                            h_phi_in_bins[i] = [float(h_values[5])]\n",
    "\n",
    "                except (ValueError, IndexError):\n",
    "                    continue"
   ]
  },
  {
   "cell_type": "code",
   "execution_count": 21,
   "metadata": {},
   "outputs": [],
   "source": [
    "# calculate the mean opening angle in each bin (and\n",
    "# statistical error)\n",
    "\n",
    "op_angle_means = []\n",
    "op_angle_errors = []\n",
    "\n",
    "for i in range(0, n_bins):\n",
    "    mu_theta = np.array(mu_theta_in_bins.get(i, []))\n",
    "    mu_phi = np.array(mu_phi_in_bins.get(i, []))\n",
    "    h_theta = np.array(h_theta_in_bins.get(i, []))\n",
    "    h_phi = np.array(h_phi_in_bins.get(i, []))\n",
    "    \n",
    "    mu_x = np.sin(mu_theta) * np.cos(mu_phi)\n",
    "    mu_y = np.sin(mu_theta) * np.sin(mu_phi)\n",
    "    mu_z = np.cos(mu_theta)\n",
    "\n",
    "    h_x = np.sin(h_theta) * np.cos(h_phi)\n",
    "    h_y = np.sin(h_theta) * np.sin(h_phi)\n",
    "    h_z = np.cos(h_theta)\n",
    "    \n",
    "    dot_product = mu_x * h_x + mu_y * h_y + mu_z * h_z\n",
    "    \n",
    "    mu_mag = np.sqrt(mu_x**2 + mu_y**2 + mu_z**2)\n",
    "    h_mag = np.sqrt(h_x**2 + h_y**2 + h_z**2)\n",
    "\n",
    "    op_angle_rad = np.arccos(dot_product / (mu_mag * h_mag))\n",
    "    op_angle = np.degrees(op_angle_rad)\n",
    "\n",
    "    if len(op_angle) > 0:\n",
    "        op_angle_mean = np.mean(op_angle)\n",
    "        op_angle_means.append(op_angle_mean)\n",
    "\n",
    "        op_angle_error = np.std(op_angle) / np.sqrt(len(op_angle))\n",
    "        op_angle_errors.append(op_angle_error)\n",
    "\n",
    "    else:\n",
    "        op_angle_means.append(np.nan)\n",
    "        op_angle_errors.append(np.nan)"
   ]
  },
  {
   "cell_type": "code",
   "execution_count": 22,
   "metadata": {},
   "outputs": [
    {
     "data": {
      "image/png": "[encoded data removed]",
      "text/plain": [
       "<Figure size 432x288 with 1 Axes>"
      ]
     },
     "metadata": {
      "needs_background": "light"
     },
     "output_type": "display_data"
    }
   ],
   "source": [
    "# plot the mean opening angle as a scatter plot\n",
    "\n",
    "bin_widths = np.diff(bin_edges)\n",
    "bin_centers = bin_edges[:-1] + bin_widths / 2\n",
    "last_bin_center = bin_edges[-1] + bin_widths[-1] / 2\n",
    "bin_centers = np.append(bin_centers, last_bin_center)\n",
    "\n",
    "plt.errorbar(bin_centers, op_angle_means, yerr=op_angle_errors,\n",
    "             fmt='o', zorder=2)\n",
    "\n",
    "plt.xlabel(r'Incoming neutrino energy $E_\\nu$ [GeV]')\n",
    "plt.ylabel(r'Mean opening angle $\\langle \\alpha \\rangle$ [deg]')\n",
    "plt.xscale('log')\n",
    "plt.yscale('log')\n",
    "plt.title('Mean opening angle vs. incoming neutrino energy')\n",
    "\n",
    "plt.grid(which='both', zorder=1)\n",
    "plt.show();"
   ]
  },
  {
   "cell_type": "code",
   "execution_count": null,
   "metadata": {},
   "outputs": [],
   "source": []
  }
 ],
 "metadata": {
  "kernelspec": {
   "display_name": "Python 3",
   "language": "python",
   "name": "python3"
  },
  "language_info": {
   "codemirror_mode": {
    "name": "ipython",
    "version": 3
   },
   "file_extension": ".py",
   "mimetype": "text/x-python",
   "name": "python",
   "nbconvert_exporter": "python",
   "pygments_lexer": "ipython3",
   "version": "3.7.5"
  }
 },
 "nbformat": 4,
 "nbformat_minor": 2
}
